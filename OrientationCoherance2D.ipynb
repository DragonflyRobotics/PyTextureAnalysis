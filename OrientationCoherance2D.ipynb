{
 "cells": [
  {
   "cell_type": "code",
   "execution_count": 1,
   "id": "e3bf6d6f",
   "metadata": {},
   "outputs": [],
   "source": [
    "import numpy as np\n",
    "import matplotlib.pyplot as plt\n",
    "import math\n",
    "from matplotlib import colors\n",
    "\n",
    "import seaborn as sns\n",
    "from scipy.stats import circvar\n",
    "\n",
    "import skimage as skimage\n",
    "import scipy as scipy\n",
    "import scipy.ndimage\n",
    "import cv2 as cv\n",
    "\n",
    "import time\n",
    "\n",
    "from mpl_toolkits.axes_grid1 import make_axes_locatable"
   ]
  },
  {
   "cell_type": "code",
   "execution_count": 2,
   "id": "8282e180",
   "metadata": {},
   "outputs": [],
   "source": [
    "%config InlineBackend.figure_format ='retina'\n",
    "\n",
    "plt.rcParams.update({'font.size': 12})"
   ]
  },
  {
   "cell_type": "markdown",
   "id": "78fe6b7e",
   "metadata": {},
   "source": [
    "### Read Image"
   ]
  },
  {
   "cell_type": "code",
   "execution_count": 3,
   "id": "7994e664",
   "metadata": {},
   "outputs": [],
   "source": [
    "Testing_Mode = False"
   ]
  },
  {
   "cell_type": "code",
   "execution_count": 4,
   "id": "b3f3c0d1",
   "metadata": {},
   "outputs": [],
   "source": [
    "def Test_Image():\n",
    "    \n",
    "    from skimage.draw import circle_perimeter_aa\n",
    "\n",
    "    raw_image = np.zeros((600, 600)).astype(np.float32)\n",
    "\n",
    "    rr, cc, val = circle_perimeter_aa(150, 150, 100)\n",
    "    raw_image[rr, cc] = val\n",
    "\n",
    "    rr, cc, val = circle_perimeter_aa(350, 300, 50)\n",
    "    raw_image[rr, cc] = val\n",
    "\n",
    "    raw_image = raw_image * 255\n",
    "    \n",
    "    return raw_image"
   ]
  },
  {
   "cell_type": "code",
   "execution_count": 5,
   "id": "1ef65e1e",
   "metadata": {},
   "outputs": [],
   "source": [
    "if Testing_Mode == False:\n",
    "    \n",
    "    filename = 'Test.tif'\n",
    "    \n",
    "    raw_image = skimage.io.imread(filename).astype('float32')\n",
    "\n",
    "if Testing_Mode == True:\n",
    "\n",
    "    raw_image = Test_Image()"
   ]
  },
  {
   "cell_type": "code",
   "execution_count": 6,
   "id": "5bf0caf7",
   "metadata": {},
   "outputs": [],
   "source": [
    "image_filter_sigma = 1\n",
    "\n",
    "local_window_size = 10\n",
    "\n",
    "threshold_value = max(int(0.5 * np.median(raw_image)), 2)\n",
    "\n",
    "########################################################################\n",
    "\n",
    "spacing = 30 # Spacing between plotting the orientation vectors\n",
    "\n",
    "scale = 50 # Length of each vector for plotting"
   ]
  },
  {
   "cell_type": "markdown",
   "id": "b18d9a50",
   "metadata": {},
   "source": [
    "### Create binary image"
   ]
  },
  {
   "cell_type": "code",
   "execution_count": 7,
   "id": "cd0ff112",
   "metadata": {},
   "outputs": [],
   "source": [
    "def make_binary_image(input_image):\n",
    "\n",
    "    threshold_value = skimage.filters.threshold_otsu(input_image)\n",
    "\n",
    "    binary_image = input_image > threshold_value\n",
    "    \n",
    "    return binary_image"
   ]
  },
  {
   "cell_type": "markdown",
   "id": "95cfa1c9",
   "metadata": {},
   "source": [
    "### Create Image of same dimensions in X and Y"
   ]
  },
  {
   "cell_type": "code",
   "execution_count": 8,
   "id": "8c8cb895",
   "metadata": {},
   "outputs": [],
   "source": [
    "def make_image_same_shape(image):\n",
    "\n",
    "    raw_image = np.zeros((max(image.shape), max(image.shape)))\n",
    "\n",
    "    raw_image[:len(image)] = image\n",
    "    \n",
    "    return raw_image"
   ]
  },
  {
   "cell_type": "markdown",
   "id": "a9ff84aa",
   "metadata": {},
   "source": [
    "### Create HeatMap"
   ]
  },
  {
   "cell_type": "code",
   "execution_count": 9,
   "id": "192c3d96",
   "metadata": {},
   "outputs": [],
   "source": [
    "def make_HeatMap(input_image, number_heatmap_windows):\n",
    "    \n",
    "    number_heatmap_windows = 20\n",
    "\n",
    "    # Define the local ROI\n",
    "\n",
    "    local_region = skimage.morphology.square(max(int(min(input_image.shape) / number_heatmap_windows), 1))\n",
    "\n",
    "    heatmap_image = skimage.filters.rank.mean(skimage.util.img_as_ubyte(input_image / input_image.max()), \n",
    "                                              footprint = local_region)\n",
    "    \n",
    "    #########################################################################################################\n",
    "\n",
    "#     local_region = skimage.morphology.square(max(int(min(input_image.shape) / number_heatmap_windows), 1))\n",
    "\n",
    "#     filtered_image = skimage.filters.median(input_image)\n",
    "\n",
    "#     binarized_image = filtered_image > (skimage.filters.threshold_otsu(filtered_image))\n",
    "\n",
    "#     heatmap_image = skimage.filters.rank.mean(binarized_image.astype(np.uint8), footprint = local_region)\n",
    "    \n",
    "    return heatmap_image"
   ]
  },
  {
   "cell_type": "markdown",
   "id": "6e64d9f7",
   "metadata": {},
   "source": [
    "### Create and solve structure tensor"
   ]
  },
  {
   "cell_type": "code",
   "execution_count": 10,
   "id": "c95d1e8c",
   "metadata": {},
   "outputs": [],
   "source": [
    "def make_StructureTensor2D(input_image, image_filter_sigma, local_window_size):\n",
    "\n",
    "    ### Calculate image gradients using Sobel or Gaussian filters\n",
    "\n",
    "    #########################################################################################################\n",
    "    \n",
    "    ### Filter the image a bit\n",
    "\n",
    "    filtered_image = skimage.filters.gaussian(input_image, sigma = image_filter_sigma, mode = 'nearest')\n",
    "    \n",
    "    ### Calculate image gradients in x and y directions\n",
    "\n",
    "    image_gradient_x = scipy.ndimage.sobel(filtered_image, axis = 0, mode = 'nearest')\n",
    "\n",
    "    image_gradient_y = scipy.ndimage.sobel(filtered_image, axis = 1, mode = 'nearest')\n",
    "\n",
    "    #########################################################################################################\n",
    "\n",
    "    ### Calculate Jxx, Jyy and Jxy\n",
    "\n",
    "    Jxx = scipy.ndimage.gaussian_filter(image_gradient_x * image_gradient_x, \n",
    "                                        local_window_size, mode = 'nearest')\n",
    "\n",
    "    Jyy = scipy.ndimage.gaussian_filter(image_gradient_y * image_gradient_y, \n",
    "                                        local_window_size, mode = 'nearest')\n",
    "\n",
    "    Jxy = scipy.ndimage.gaussian_filter(image_gradient_x * image_gradient_y, \n",
    "                                        local_window_size, mode = 'nearest')\n",
    "\n",
    "    #########################################################################################################\n",
    "\n",
    "    ### Make Structure Tensor\n",
    "\n",
    "    Raw_Structure_Tensor = np.array([[Jxx, Jxy], \n",
    "                                     [Jxy, Jyy]])\n",
    "\n",
    "    Structure_Tensor = np.moveaxis(Raw_Structure_Tensor, [0, 1], [2, 3]) # For solving EigenProblem\n",
    "    \n",
    "#     Energy = np.trace(Raw_Structure_Tensor)\n",
    "\n",
    "    EigenValues, EigenVectors = np.linalg.eigh(Structure_Tensor) # eigh because matrix is symmetric\n",
    "    \n",
    "    return Structure_Tensor, EigenValues, EigenVectors, Jxx, Jxy, Jyy"
   ]
  },
  {
   "cell_type": "markdown",
   "id": "48808c64",
   "metadata": {},
   "source": [
    "### Create and solve for Orientation and Coherance"
   ]
  },
  {
   "cell_type": "code",
   "execution_count": 11,
   "id": "a2914053",
   "metadata": {},
   "outputs": [],
   "source": [
    "def make_Coherance_Orientation(input_image, EigenValues, EigenVectors, Structure_Tensor, Jxx, Jxy, Jyy):\n",
    "    \n",
    "    vx = EigenVectors[..., 0][:, :, 0]\n",
    "    vx[input_image < threshold_value] = np.nan\n",
    "\n",
    "    vy = EigenVectors[..., 0][:, :, 1]\n",
    "    vy[input_image < threshold_value] = np.nan\n",
    "    \n",
    "    #############################################\n",
    "    \n",
    "    Orientation = 0.5 * ( cv.phase( (Jyy - Jxx), (2 * Jxy), angleInDegrees = True) )\n",
    "\n",
    "    Orientation[input_image < threshold_value] = np.nan\n",
    "    \n",
    "    #############################################\n",
    "    \n",
    "    # Smallest_Normalized_Eigenvalues = EigenValues[..., 0] / (np.trace(Structure_Tensor, axis1 = 2, axis2 = 3))\n",
    "\n",
    "    # Largest_Normalized_Eigenvalues = EigenValues[..., 1] / (np.trace(Structure_Tensor, axis1 = 2, axis2 = 3))\n",
    "    \n",
    "    Coherance = np.zeros(input_image.shape)\n",
    "    \n",
    "    for j in range(input_image.shape[1]):\n",
    "\n",
    "        for i in range(input_image.shape[0]):\n",
    "\n",
    "            if ( ( (EigenValues[i, j].sum()) > 0) and (input_image[i, j] > threshold_value)):\n",
    "\n",
    "                Smallest_Normalized_Eigenvalues = EigenValues[i, j][0] / np.trace(Structure_Tensor[i, j])\n",
    "\n",
    "                Largest_Normalized_Eigenvalues = EigenValues[i, j][1] / np.trace(Structure_Tensor[i, j])\n",
    "\n",
    "                Coherance[i, j] = np.abs((Largest_Normalized_Eigenvalues - Smallest_Normalized_Eigenvalues) /\n",
    "                                         (Smallest_Normalized_Eigenvalues + Largest_Normalized_Eigenvalues))\n",
    "\n",
    "            else:\n",
    "\n",
    "                Coherance[i, j] = np.nan\n",
    "\n",
    "    return Coherance, Orientation, vx, vy"
   ]
  },
  {
   "cell_type": "markdown",
   "id": "7ee72fe7",
   "metadata": {},
   "source": [
    "### Make discrete colormaps"
   ]
  },
  {
   "cell_type": "code",
   "execution_count": 12,
   "id": "8403065d",
   "metadata": {},
   "outputs": [],
   "source": [
    "def discrete_cmap(N, base_cmap):\n",
    "    \n",
    "    \"\"\"Create an N-bin discrete colormap from the specified input map\"\"\"\n",
    "\n",
    "    base = plt.cm.get_cmap(base_cmap)\n",
    "    \n",
    "    color_list = base(np.linspace(0, 1, N))\n",
    "    \n",
    "    cmap_name = base.name + str(N)\n",
    "    \n",
    "    return base.from_list(cmap_name, color_list, N)"
   ]
  },
  {
   "cell_type": "markdown",
   "id": "c916bd0d",
   "metadata": {},
   "source": [
    "### Start the analysis"
   ]
  },
  {
   "cell_type": "code",
   "execution_count": 13,
   "id": "3026dcac",
   "metadata": {},
   "outputs": [
    {
     "name": "stdout",
     "output_type": "stream",
     "text": [
      "\n",
      "Coherance and Orientation calculations took 7 seconds\n",
      "\n"
     ]
    }
   ],
   "source": [
    "# binary_image = make_binary_image(raw_image)\n",
    "\n",
    "##########################################################################################\n",
    "\n",
    "Structure_Tensor, EigenValues, EigenVectors, Jxx, Jxy, Jyy = make_StructureTensor2D(raw_image,\n",
    "                                                                                    image_filter_sigma, \n",
    "                                                                                    local_window_size)\n",
    "\n",
    "##########################################################################################\n",
    "\n",
    "# Calculate Orientation, Coherance\n",
    "\n",
    "start = time.time()\n",
    "\n",
    "Coherance, Orientation, vx, vy = make_Coherance_Orientation(raw_image,\n",
    "                                                            EigenValues, EigenVectors,\n",
    "                                                            Structure_Tensor, \n",
    "                                                            Jxx, Jxy, Jyy)\n",
    "\n",
    "end = time.time()\n",
    "\n",
    "##########################################################################################\n",
    "\n",
    "print()\n",
    "\n",
    "print('Coherance and Orientation calculations took ' + str(int(end - start)) + ' seconds')\n",
    "\n",
    "print()"
   ]
  },
  {
   "cell_type": "markdown",
   "id": "764f5af7",
   "metadata": {},
   "source": [
    "### Plot everything"
   ]
  },
  {
   "cell_type": "code",
   "execution_count": 26,
   "id": "bf792eb4",
   "metadata": {},
   "outputs": [],
   "source": [
    "fig, ax = plt.subplots(1, 4, figsize = (45, 15), sharex = True, sharey = True)\n",
    "\n",
    "ax[0].imshow(raw_image,cmap = 'viridis')\n",
    "\n",
    "ax[0].set_title('Image', pad = 20, fontsize = 40)\n",
    "ax[0].set_xticks([])\n",
    "ax[0].set_yticks([])\n",
    "\n",
    "divider = make_axes_locatable(ax[0])\n",
    "cax0 = divider.append_axes(\"right\", size=\"5%\", pad=0.4)\n",
    "cax0.remove()\n",
    "\n",
    "########################################################################\n",
    "\n",
    "im1 = ax[1].imshow(Coherance, vmin = 0, vmax = 1, cmap = 'RdYlBu_r')\n",
    "\n",
    "divider = make_axes_locatable(ax[1])\n",
    "cax = divider.append_axes(\"right\", size=\"5%\", pad = 0.4)\n",
    "cbar = fig.colorbar(im1, cax = cax, ticks = np.linspace(0, 1, 5))\n",
    "cbar.ax.set_yticklabels([r'$0$', r'$0.25$', r'$0.5$', r'$0.75$', r'$1$'], fontsize = 40)\n",
    "\n",
    "ax[1].set_title('Coherance', pad = 20, fontsize = 40)\n",
    "ax[1].set_xticks([])\n",
    "ax[1].set_yticks([])\n",
    "\n",
    "###########################################################data#############\n",
    "\n",
    "im2 = ax[2].imshow(Orientation/180, vmin = 0, vmax = 1, cmap = 'hsv')\n",
    "\n",
    "divider = make_axes_locatable(ax[2])\n",
    "cax = divider.append_axes(\"right\", size=\"5%\", pad=0.4)\n",
    "cbar = fig.colorbar(im2, cax = cax, ticks = np.linspace(0, 1, 3))\n",
    "cbar.ax.set_yticklabels([r'$0^{\\circ}$', r'$90^{\\circ}$', r'$180^{\\circ}$'], fontsize = 40)\n",
    "\n",
    "ax[2].set_title('Orientation', pad = 20, fontsize = 40)\n",
    "ax[2].set_xticks([])\n",
    "ax[2].set_yticks([])\n",
    "\n",
    "########################################################################\n",
    "\n",
    "im3 = ax[3].imshow(raw_image, cmap = 'Oranges', alpha = 1)\n",
    "\n",
    "xmesh, ymesh = np.meshgrid(np.arange(raw_image.shape[0]), \n",
    "                           np.arange(raw_image.shape[1]), \n",
    "                           indexing = 'ij')\n",
    "\n",
    "ax[3].quiver(ymesh[spacing//2::spacing, spacing//2::spacing], xmesh[spacing//2::spacing, spacing//2::spacing],\n",
    "             vy[spacing//2::spacing, spacing//2::spacing], vx[spacing//2::spacing, spacing//2::spacing],\n",
    "             scale = scale, headlength = 0, headaxislength = 0, \n",
    "             pivot = 'middle', color = 'k', angles = 'xy')\n",
    "\n",
    "ax[3].set_title('Orientation Vector Field', pad = 20, fontsize = 40)\n",
    "ax[3].set_xticks([])\n",
    "ax[3].set_yticks([])\n",
    "\n",
    "divider = make_axes_locatable(ax[3])\n",
    "cax = divider.append_axes(\"right\", size=\"5%\", pad=0.4)\n",
    "cax.remove()\n",
    "\n",
    "########################################################################\n",
    "\n",
    "fig.tight_layout()\n",
    "\n",
    "image_string = 'Result_' + 'W_' + str(local_window_size) + ',' + filename\n",
    "\n",
    "size = len(image_string)\n",
    "\n",
    "image_string = image_string[:size - 4] + '.pdf'\n",
    "\n",
    "plt.savefig(image_string)\n",
    "\n",
    "plt.close()"
   ]
  },
  {
   "cell_type": "code",
   "execution_count": 15,
   "id": "45432b38",
   "metadata": {},
   "outputs": [],
   "source": [
    "# fig = plt.figure(figsize = (5, 5))\n",
    "\n",
    "# bin_size = int(180/12)\n",
    "\n",
    "# a , b = np.histogram(Orientation.ravel(), bins = np.arange(0, 180 + bin_size, bin_size), density = True)\n",
    "\n",
    "# centers = np.deg2rad(np.ediff1d(b)//2 + b[:-1])\n",
    "\n",
    "# ax = fig.add_subplot(111, projection = 'polar')\n",
    "\n",
    "# ax.bar(centers, a, width = np.deg2rad(bin_size), bottom = 0.0, color = 'steelblue', edgecolor = 'k')\n",
    "\n",
    "# ax.set_theta_zero_location(\"E\")\n",
    "\n",
    "# ax.set_theta_direction(1)\n",
    "\n",
    "# ax.set_thetamin(0)\n",
    "\n",
    "# ax.set_thetamax(180)\n",
    "\n",
    "# ax.set_yticks([])\n",
    "\n",
    "# ax.set_xlabel('Orientation')\n",
    "\n",
    "# image_string = 'Orientation_1_' + \\\n",
    "#                 'S_' + str(image_filter_sigma) + ',' + \\\n",
    "#                 'W_' + str(local_window_size) + '_' + \\\n",
    "#                 filename\n",
    "\n",
    "# size = len(image_string)\n",
    "\n",
    "# image_string = image_string[:size - 4] + '.png'\n",
    "\n",
    "# plt.savefig(image_string, dpi = 200)\n",
    "\n",
    "# plt.close()"
   ]
  },
  {
   "cell_type": "code",
   "execution_count": 16,
   "id": "5ca8cf61",
   "metadata": {},
   "outputs": [],
   "source": [
    "# plt.figure(figsize = (5, 5))\n",
    "\n",
    "# sns.histplot(Orientation.ravel(), bins = 20, stat = 'percent', fill = True)\n",
    "\n",
    "# plt.xlabel('Orientation')\n",
    "\n",
    "# plt.ylim(0, 100)\n",
    "\n",
    "# plt.xlim(-1, 181)\n",
    "\n",
    "# image_string = 'Orientation_2_' + \\\n",
    "#                 'S_' + str(image_filter_sigma) + ',' + \\\n",
    "#                 'W_' + str(local_window_size) + '_' + \\\n",
    "#                 filename\n",
    "\n",
    "# size = len(image_string)\n",
    "\n",
    "# image_string = image_string[:size - 4] + '.png'\n",
    "\n",
    "# plt.savefig(image_string, dpi = 200)\n",
    "\n",
    "# plt.close()"
   ]
  },
  {
   "cell_type": "markdown",
   "id": "5f9991f1",
   "metadata": {},
   "source": [
    "### Save Coherance histogram"
   ]
  },
  {
   "cell_type": "code",
   "execution_count": 17,
   "id": "42e17636",
   "metadata": {},
   "outputs": [],
   "source": [
    "# plt.figure(figsize = (5, 5))\n",
    "\n",
    "# sns.histplot(Coherance.ravel(), bins = 20, stat = 'percent', fill = True)\n",
    "\n",
    "# plt.xlabel('Coherance')\n",
    "\n",
    "# plt.ylim(0, 100)\n",
    "\n",
    "# plt.xlim(-0.01, 1.01)\n",
    "\n",
    "# image_string = 'Coherance_' + \\\n",
    "#                 'S_' + str(image_filter_sigma) + ',' + \\\n",
    "#                 'W_' + str(local_window_size) + '_' + \\\n",
    "#                 filename\n",
    "\n",
    "# size = len(image_string)\n",
    "\n",
    "# image_string = image_string[:size - 4] + '.png'\n",
    "\n",
    "# plt.savefig(image_string, dpi = 200)\n",
    "\n",
    "# plt.close()"
   ]
  },
  {
   "cell_type": "markdown",
   "id": "52877983",
   "metadata": {},
   "source": [
    "### Save the arrays"
   ]
  },
  {
   "cell_type": "code",
   "execution_count": 18,
   "id": "6e73a4e0",
   "metadata": {},
   "outputs": [],
   "source": [
    "fname = 'Structure_Tensor_' + 'W_' + str(local_window_size) + ',' + filename\n",
    "\n",
    "size = len(fname)\n",
    "\n",
    "fname = fname[:size - 4] + '.npy'\n",
    "\n",
    "np.save(fname, Structure_Tensor)"
   ]
  },
  {
   "cell_type": "code",
   "execution_count": 19,
   "id": "389ecf3a",
   "metadata": {},
   "outputs": [],
   "source": [
    "fname = 'EigenValues_' + 'W_' + str(local_window_size) + ',' + filename\n",
    "\n",
    "size = len(fname)\n",
    "\n",
    "fname = fname[:size - 4] + '.npy'\n",
    "\n",
    "np.save(fname, EigenValues)"
   ]
  },
  {
   "cell_type": "code",
   "execution_count": 20,
   "id": "76f93b0d",
   "metadata": {},
   "outputs": [],
   "source": [
    "fname = 'EigenVectors_' + 'W_' + str(local_window_size) + ',' + filename\n",
    "\n",
    "size = len(fname)\n",
    "\n",
    "fname = fname[:size - 4] + '.npy'\n",
    "\n",
    "np.save(fname, EigenVectors)"
   ]
  },
  {
   "cell_type": "code",
   "execution_count": 21,
   "id": "c62a791b",
   "metadata": {},
   "outputs": [],
   "source": [
    "fname = 'Orientation_' + 'W_' + str(local_window_size) + ',' + filename\n",
    "\n",
    "size = len(fname)\n",
    "\n",
    "fname = fname[:size - 4] + '.npy'\n",
    "\n",
    "np.save(fname, Orientation)"
   ]
  },
  {
   "cell_type": "code",
   "execution_count": 22,
   "id": "458da569",
   "metadata": {},
   "outputs": [],
   "source": [
    "fname = 'Coherance_' + 'W_' + str(local_window_size) + ',' + filename\n",
    "\n",
    "size = len(fname)\n",
    "\n",
    "fname = fname[:size - 4] + '.npy'\n",
    "\n",
    "np.save(fname, Coherance)"
   ]
  },
  {
   "cell_type": "code",
   "execution_count": 23,
   "id": "7e4b93ac",
   "metadata": {},
   "outputs": [],
   "source": [
    "results_array = np.hstack((image_filter_sigma, local_window_size, threshold_value,\n",
    "                           np.nanmean(Orientation), np.nanmedian(Orientation), np.nanstd(Orientation),\n",
    "                           np.nanmean(Coherance), np.nanmedian(Coherance), np.nanstd(Coherance)))\n",
    "\n",
    "fname = 'Result_' + 'W_' + str(local_window_size) + ',' + filename\n",
    "\n",
    "size = len(fname)\n",
    "\n",
    "fname = fname[:size - 4] + '.txt'\n",
    "\n",
    "np.savetxt(fname, results_array, fmt = '%0.2f')"
   ]
  },
  {
   "cell_type": "code",
   "execution_count": null,
   "id": "7ca8e377",
   "metadata": {},
   "outputs": [],
   "source": []
  }
 ],
 "metadata": {
  "kernelspec": {
   "display_name": "Python 3 (ipykernel)",
   "language": "python",
   "name": "python3"
  },
  "language_info": {
   "codemirror_mode": {
    "name": "ipython",
    "version": 3
   },
   "file_extension": ".py",
   "mimetype": "text/x-python",
   "name": "python",
   "nbconvert_exporter": "python",
   "pygments_lexer": "ipython3",
   "version": "3.9.12"
  }
 },
 "nbformat": 4,
 "nbformat_minor": 5
}
