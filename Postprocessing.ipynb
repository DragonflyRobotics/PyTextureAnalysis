{
 "cells": [
  {
   "cell_type": "code",
   "execution_count": 10,
   "id": "e3bf6d6f",
   "metadata": {},
   "outputs": [],
   "source": [
    "import numpy as np\n",
    "import matplotlib.pyplot as plt\n",
    "\n",
    "import os\n",
    "import sys\n",
    "\n",
    "import skimage as skimage\n",
    "\n",
    "import seaborn as sns\n",
    "\n",
    "import re\n",
    "\n",
    "import cv2 as cv2\n",
    "\n",
    "from glob import glob"
   ]
  },
  {
   "cell_type": "markdown",
   "id": "31d08efc",
   "metadata": {},
   "source": [
    "### Remove all CSV files"
   ]
  },
  {
   "cell_type": "code",
   "execution_count": 11,
   "id": "7b387279",
   "metadata": {},
   "outputs": [
    {
     "name": "stderr",
     "output_type": "stream",
     "text": [
      "rm: cannot remove '*.csv': No such file or directory\n"
     ]
    },
    {
     "data": {
      "text/plain": [
       "256"
      ]
     },
     "execution_count": 11,
     "metadata": {},
     "output_type": "execute_result"
    }
   ],
   "source": [
    "os.system('rm *.csv')"
   ]
  },
  {
   "cell_type": "code",
   "execution_count": 12,
   "id": "8282e180",
   "metadata": {},
   "outputs": [],
   "source": [
    "%config InlineBackend.figure_format ='retina'\n",
    "\n",
    "plt.rcParams.update({'font.size': 25})"
   ]
  },
  {
   "cell_type": "code",
   "execution_count": 13,
   "id": "8b6615a8",
   "metadata": {},
   "outputs": [],
   "source": [
    "window_size_list = [4, 10, 20, 50]"
   ]
  },
  {
   "cell_type": "code",
   "execution_count": 14,
   "id": "07fc55c8",
   "metadata": {},
   "outputs": [],
   "source": [
    "# which_folder = 'Healthy'\n",
    "\n",
    "which_folder = 'RightSide'\n",
    "\n",
    "# which_folder = 'LeftSide'"
   ]
  },
  {
   "cell_type": "code",
   "execution_count": 15,
   "id": "7ca8e377",
   "metadata": {},
   "outputs": [
    {
     "data": {
      "text/plain": [
       "18"
      ]
     },
     "execution_count": 15,
     "metadata": {},
     "output_type": "execute_result"
    }
   ],
   "source": [
    "string = './' + which_folder + '/*/'\n",
    "\n",
    "folder_list = glob(string, recursive = True)\n",
    "\n",
    "len(folder_list)"
   ]
  },
  {
   "cell_type": "code",
   "execution_count": 16,
   "id": "8d1bb127",
   "metadata": {},
   "outputs": [
    {
     "data": {
      "text/plain": [
       "['./Healthy/H84N3-2/',\n",
       " './Healthy/H70N2-1/',\n",
       " './Healthy/H70N1-1/',\n",
       " './Healthy/H70N2-2/',\n",
       " './Healthy/H84N3-3/',\n",
       " './Healthy/H84N4-4/',\n",
       " './Healthy/H70N3-1/',\n",
       " './Healthy/H84N4-2/',\n",
       " './Healthy/H84N4-3/',\n",
       " './Healthy/H84N2-3/',\n",
       " './Healthy/H84N2-1/',\n",
       " './Healthy/H70N1-3/',\n",
       " './Healthy/H84N4-1/',\n",
       " './Healthy/H84N3-4/',\n",
       " './Healthy/H70N1-2/',\n",
       " './Healthy/H84N3-1/',\n",
       " './Healthy/H70N2-3/',\n",
       " './Healthy/H84N4-5/']"
      ]
     },
     "execution_count": 16,
     "metadata": {},
     "output_type": "execute_result"
    }
   ],
   "source": [
    "folder_list"
   ]
  },
  {
   "cell_type": "code",
   "execution_count": 17,
   "id": "c0702f52",
   "metadata": {},
   "outputs": [],
   "source": [
    "for i in range(len(folder_list)):\n",
    "\n",
    "    files = os.listdir(folder_list[i])"
   ]
  },
  {
   "cell_type": "code",
   "execution_count": 18,
   "id": "67193a9d",
   "metadata": {},
   "outputs": [
    {
     "data": {
      "text/plain": [
       "['Result_W_4,H84N4-5.txt',\n",
       " 'Orientation_W_20,H84N4-5.npy',\n",
       " 'Coherance_W_10,H84N4-5.npy',\n",
       " 'EigenValues_W_4,H84N4-5.npy',\n",
       " 'Coherance_W_4,H84N4-5.npy',\n",
       " 'EigenVectors_W_4,H84N4-5.npy',\n",
       " 'EigenVectors_W_50,H84N4-5.npy',\n",
       " 'EigenValues_W_50,H84N4-5.npy',\n",
       " 'Result_W_10,H84N4-5.pdf',\n",
       " 'EigenVectors_W_20,H84N4-5.npy',\n",
       " 'Result_W_50,H84N4-5.pdf',\n",
       " 'Result_W_50,H84N4-5.txt',\n",
       " 'Result_W_10,H84N4-5.txt',\n",
       " 'Coherance_W_50,H84N4-5.npy',\n",
       " 'Structure_Tensor_W_10,H84N4-5.npy',\n",
       " 'Structure_Tensor_W_20,H84N4-5.npy',\n",
       " 'EigenValues_W_10,H84N4-5.npy',\n",
       " 'Result_W_20,H84N4-5.txt',\n",
       " 'Coherance_W_20,H84N4-5.npy',\n",
       " 'Result_W_4,H84N4-5.pdf',\n",
       " 'EigenVectors_W_10,H84N4-5.npy',\n",
       " 'Structure_Tensor_W_50,H84N4-5.npy',\n",
       " 'H84N4-5.tif',\n",
       " 'Structure_Tensor_W_4,H84N4-5.npy',\n",
       " 'Orientation_W_10,H84N4-5.npy',\n",
       " 'EigenValues_W_20,H84N4-5.npy',\n",
       " 'Orientation_W_50,H84N4-5.npy',\n",
       " 'Result_W_20,H84N4-5.pdf',\n",
       " 'OrientationCoherance2D.py',\n",
       " 'Orientation_W_4,H84N4-5.npy']"
      ]
     },
     "execution_count": 18,
     "metadata": {},
     "output_type": "execute_result"
    }
   ],
   "source": [
    "files"
   ]
  },
  {
   "cell_type": "markdown",
   "id": "38f1592d",
   "metadata": {},
   "source": [
    "### Isolate files of a certain window only"
   ]
  },
  {
   "cell_type": "code",
   "execution_count": 30,
   "id": "e26e08ee",
   "metadata": {},
   "outputs": [],
   "source": [
    "for window in window_size_list:\n",
    "    \n",
    "    ############################################################\n",
    "    \n",
    "    array = []\n",
    "    \n",
    "    for i in range(len(folder_list)):\n",
    "\n",
    "        ############################################################\n",
    "\n",
    "        keyword = 'Orientation_W_' + str(window) + ','\n",
    "\n",
    "        file_of_interest = []\n",
    "\n",
    "        for fname in os.listdir(folder_list[i]):\n",
    "\n",
    "            if keyword in fname:\n",
    "\n",
    "                file_of_interest.append(fname)\n",
    "\n",
    "        file_string = folder_list[i] + file_of_interest[0]\n",
    "\n",
    "        Orientation_temp = np.load(file_string)\n",
    "        \n",
    "        Orientation = Orientation_temp.copy()\n",
    "\n",
    "#         Orientation = cv2.normalize(Orientation_temp[~np.isnan(Orientation_temp)], None, \n",
    "#                                  alpha = 1e-4, beta = 180, \n",
    "#                                  norm_type = cv2.NORM_MINMAX, dtype = cv2.CV_32F)\n",
    "\n",
    "        ############################################################\n",
    "\n",
    "        keyword = 'Coherance_W_' + str(window) + ','\n",
    "\n",
    "        file_of_interest = []\n",
    "\n",
    "        for fname in os.listdir(folder_list[i]):\n",
    "\n",
    "            if keyword in fname:\n",
    "\n",
    "                file_of_interest.append(fname)\n",
    "\n",
    "        file_string = folder_list[i] + file_of_interest[0]\n",
    "\n",
    "        Coherance_temp = np.load(file_string)\n",
    "        \n",
    "        Coherance = Coherance_temp[~np.isnan(Coherance_temp)].copy()\n",
    "\n",
    "#         Coherance = cv2.normalize(Coherance_temp[~np.isnan(Coherance_temp)], None, \n",
    "#                                  alpha = 1e-4, beta = 1, \n",
    "#                                  norm_type = cv2.NORM_MINMAX, dtype = cv2.CV_32F)\n",
    "\n",
    "        ############################################################\n",
    "\n",
    "        histogram_coherance = plt.hist(Coherance, bins = 2, weights = np.ones(len(Coherance)) / len(Coherance));\n",
    "\n",
    "        plt.close()\n",
    "\n",
    "        low_coherance, high_coherance = 100 * histogram_coherance[0]\n",
    "\n",
    "        ############################################################\n",
    "        \n",
    "        if (which_folder == 'Healthy'):\n",
    "\n",
    "            array.append(np.asarray((folder_list[i][10:][:-1], \n",
    "                                     np.nanmean(Orientation.ravel()), \n",
    "                                     np.nanmedian(Orientation.ravel()), \n",
    "                                     np.nanstd(Orientation.ravel()),\n",
    "                                     np.m(Coherance.ravel()), \n",
    "                                     np.nanmedian(Coherance.ravel()), \n",
    "                                     np.nanstd(Coherance.ravel()),\n",
    "                                     low_coherance, high_coherance)))\n",
    "            \n",
    "        else:\n",
    "            \n",
    "            array.append(np.asarray((folder_list[i][12:][:-1], \n",
    "                                     np.nanmean(Orientation.ravel()), \n",
    "                                     np.nanmedian(Orientation.ravel()), \n",
    "                                     np.nanstd(Orientation.ravel()),\n",
    "                                     np.nanmean(Coherance.ravel()), \n",
    "                                     np.nanmedian(Coherance.ravel()), \n",
    "                                     np.nanstd(Coherance.ravel()),\n",
    "                                     low_coherance, high_coherance)))\n",
    "\n",
    "        ############################################################\n",
    "\n",
    "    np.savetxt(which_folder + '_Window_' + str(window) + '.csv', \n",
    "           array,\n",
    "           fmt = \"%s\", delimiter = ',', \n",
    "           header = \"Specimen, Mean Orientation, Median Orientation, StdDev Orientation, \\\n",
    "                       Mean Coherance, Median Coherance, StdDev Coherance, \\\n",
    "                        %Low Coherance, %High Coherance\")"
   ]
  },
  {
   "cell_type": "code",
   "execution_count": null,
   "id": "0dc26837",
   "metadata": {},
   "outputs": [],
   "source": []
  }
 ],
 "metadata": {
  "kernelspec": {
   "display_name": "Python 3 (ipykernel)",
   "language": "python",
   "name": "python3"
  },
  "language_info": {
   "codemirror_mode": {
    "name": "ipython",
    "version": 3
   },
   "file_extension": ".py",
   "mimetype": "text/x-python",
   "name": "python",
   "nbconvert_exporter": "python",
   "pygments_lexer": "ipython3",
   "version": "3.9.12"
  }
 },
 "nbformat": 4,
 "nbformat_minor": 5
}
