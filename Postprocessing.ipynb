{
 "cells": [
  {
   "cell_type": "code",
   "execution_count": 23,
   "id": "e3bf6d6f",
   "metadata": {},
   "outputs": [],
   "source": [
    "import numpy as np\n",
    "import matplotlib.pyplot as plt\n",
    "import os\n",
    "import sys\n",
    "\n",
    "import skimage as skimage\n",
    "\n",
    "import seaborn as sns\n",
    "\n",
    "import re\n",
    "\n",
    "from glob import glob"
   ]
  },
  {
   "cell_type": "markdown",
   "id": "85e4341d",
   "metadata": {},
   "source": [
    "### Remove all CSV files"
   ]
  },
  {
   "cell_type": "code",
   "execution_count": 24,
   "id": "78ea6202",
   "metadata": {},
   "outputs": [
    {
     "name": "stderr",
     "output_type": "stream",
     "text": [
      "rm: cannot remove '*.csv': No such file or directory\n"
     ]
    },
    {
     "data": {
      "text/plain": [
       "256"
      ]
     },
     "execution_count": 24,
     "metadata": {},
     "output_type": "execute_result"
    }
   ],
   "source": [
    "os.system('rm *.csv')"
   ]
  },
  {
   "cell_type": "code",
   "execution_count": 25,
   "id": "8282e180",
   "metadata": {},
   "outputs": [],
   "source": [
    "%config InlineBackend.figure_format ='retina'\n",
    "\n",
    "plt.rcParams.update({'font.size': 25})"
   ]
  },
  {
   "cell_type": "code",
   "execution_count": 26,
   "id": "8b6615a8",
   "metadata": {},
   "outputs": [],
   "source": [
    "window_size_list = [1, 2, 5, 10, 20, 30, 40, 50, 60, 70, 80, 90, 100, 120, 150, 200, 250, 300, 350, 400, 450, 500]\n",
    "\n",
    "# window_size_list = [1, 2, 5]"
   ]
  },
  {
   "cell_type": "code",
   "execution_count": 27,
   "id": "b16e5eff",
   "metadata": {},
   "outputs": [],
   "source": [
    "# which_folder = 'RightSide'\n",
    "\n",
    "which_folder = 'LeftSide'"
   ]
  },
  {
   "cell_type": "code",
   "execution_count": 28,
   "id": "7ca8e377",
   "metadata": {},
   "outputs": [
    {
     "data": {
      "text/plain": [
       "99"
      ]
     },
     "execution_count": 28,
     "metadata": {},
     "output_type": "execute_result"
    }
   ],
   "source": [
    "string = './' + which_folder + '/*/'\n",
    "\n",
    "folder_list = glob(string, recursive = True)\n",
    "\n",
    "len(folder_list)"
   ]
  },
  {
   "cell_type": "code",
   "execution_count": 29,
   "id": "a4bd6b4c",
   "metadata": {},
   "outputs": [],
   "source": [
    "all_txt_files = []\n",
    "\n",
    "for i in range(len(folder_list)):\n",
    "\n",
    "    files = os.listdir(folder_list[i])\n",
    "\n",
    "    all_txt_files.append([i for i in files if i.endswith('.txt')])\n",
    "    \n",
    "all_txt_files = np.asarray(all_txt_files)"
   ]
  },
  {
   "cell_type": "code",
   "execution_count": 31,
   "id": "00ff3f94",
   "metadata": {},
   "outputs": [],
   "source": [
    "Mean_Orientation = np.empty((all_txt_files.shape))\n",
    "Median_Orientation = np.empty((all_txt_files.shape))\n",
    "StdDev_Orientation = np.empty((all_txt_files.shape))\n",
    "\n",
    "###\n",
    "\n",
    "Mean_Coherance = np.empty((all_txt_files.shape))\n",
    "Median_Coherance = np.empty((all_txt_files.shape))\n",
    "StdDev_Coherance = np.empty((all_txt_files.shape))\n",
    "\n",
    "###\n",
    "\n",
    "Window_Size = np.empty((all_txt_files.shape))\n",
    "\n",
    "#######################################################################\n",
    "\n",
    "for i in range(len(folder_list)):\n",
    "\n",
    "    files = os.listdir(folder_list[i])\n",
    "\n",
    "    files_txt = [i for i in files if i.endswith('.txt')]\n",
    "    \n",
    "    for j in range(len(files_txt)):\n",
    "\n",
    "        loaded_array = np.loadtxt(os.path.join(folder_list[i], files_txt[j]))\n",
    "        \n",
    "        ########################################################################\n",
    "        \n",
    "        Mean_Orientation[i, j] = loaded_array[3]\n",
    "\n",
    "        Median_Orientation[i, j] = loaded_array[4]\n",
    "\n",
    "        StdDev_Orientation[i, j] = loaded_array[5]\n",
    "\n",
    "        ####\n",
    "\n",
    "        Mean_Coherance[i, j] = loaded_array[6]\n",
    "\n",
    "        Median_Coherance[i, j] = loaded_array[7]\n",
    "\n",
    "        StdDev_Coherance[i, j] = loaded_array[8]\n",
    "        \n",
    "        ####\n",
    "        \n",
    "        Window_Size[i, j] = loaded_array[1]"
   ]
  },
  {
   "cell_type": "code",
   "execution_count": 33,
   "id": "a21fca10",
   "metadata": {},
   "outputs": [
    {
     "data": {
      "text/plain": [
       "(99, 22)"
      ]
     },
     "execution_count": 33,
     "metadata": {},
     "output_type": "execute_result"
    }
   ],
   "source": [
    "Mean_Orientation.shape"
   ]
  },
  {
   "cell_type": "code",
   "execution_count": 9,
   "id": "8e1d217b",
   "metadata": {
    "scrolled": false
   },
   "outputs": [],
   "source": [
    "# fig, axs = plt.subplots(5, 5, figsize = (40, 40), facecolor='w', edgecolor='k')\n",
    "\n",
    "# axs = axs.ravel()\n",
    "\n",
    "# for i in range(len(window_size_list)):\n",
    "\n",
    "#     axs[i].plot(window_size_list, Mean_Orientation[i], 'o', \n",
    "#                 markersize = 15, color = 'darkorange', label = 'Mean')\n",
    "#     axs[i].plot(window_size_list, StdDev_Orientation[i], 'o', \n",
    "#                 markersize = 15, color = 'steelblue', label = 'StdDev')\n",
    "#     axs[i].legend(loc = 'upper right')\n",
    "\n",
    "#     axs[i].set_xlim(-10, 1.1 * window_size_list[-1])\n",
    "#     axs[i].set_ylim(-10, 180)\n",
    "\n",
    "#     axs[i].set_title(folder_list[i])\n",
    "\n",
    "#     axs[i].set_xlabel('Windows')\n",
    "#     axs[i].set_ylabel('Orientation, Deg')\n",
    "\n",
    "# fig.tight_layout()\n",
    "\n",
    "# axs.flat[-1].set_visible(False)\n",
    "# axs.flat[-2].set_visible(False)\n",
    "# axs.flat[-3].set_visible(False)\n",
    "\n",
    "# fig.savefig('Left_Side_Orientation.pdf')\n",
    "\n",
    "# plt.close()"
   ]
  },
  {
   "cell_type": "markdown",
   "id": "76b1ea80",
   "metadata": {},
   "source": [
    "### Isolate a single window size"
   ]
  },
  {
   "cell_type": "code",
   "execution_count": 14,
   "id": "8428663c",
   "metadata": {},
   "outputs": [],
   "source": [
    "for window in window_size_list:\n",
    "    \n",
    "    ########################################################################\n",
    "    \n",
    "    start = str(window) + ','\n",
    "\n",
    "    end = '.txt'\n",
    "\n",
    "    result = []\n",
    "\n",
    "    for i in range(len(all_txt_files)):\n",
    "\n",
    "        result.append(re.search('%s(.*)%s' % (start, end), all_txt_files[Window_Size == window][i]).group(1))\n",
    "    \n",
    "    ########################################################################\n",
    "\n",
    "    zipped = zip(np.asarray(result), Mean_Orientation[Window_Size == window])\n",
    "    np.savetxt('Mean_Orientation_' + which_folder + '_Window_' + str(window) + '.csv', \n",
    "               np.asarray(sorted(zipped, key=lambda x: x[0])), \n",
    "               fmt = \"%s\", delimiter = ',', header = \"Specimen, Value\")\n",
    "\n",
    "    zipped = zip(np.asarray(result), Mean_Coherance[Window_Size == window])\n",
    "    np.savetxt('Mean_Coherance_' + which_folder + '_Window_' + str(window) + '.csv', \n",
    "               np.asarray(sorted(zipped, key=lambda x: x[0])), \n",
    "               fmt = \"%s\", delimiter = ',', header = \"Specimen, Value\")\n",
    "\n",
    "    zipped = zip(np.asarray(result), StdDev_Orientation[Window_Size == window])\n",
    "    np.savetxt('StdDev_Orientation_' + which_folder + '_Window_' + str(window) + '.csv', \n",
    "               np.asarray(sorted(zipped, key=lambda x: x[0])), \n",
    "               fmt = \"%s\", delimiter = ',', header = \"Specimen, Value\")\n",
    "\n",
    "    zipped = zip(np.asarray(result), StdDev_Coherance[Window_Size == window])\n",
    "    np.savetxt('StdDev_Coherance_' + which_folder + '_Window_' + str(window) + '.csv', \n",
    "               np.asarray(sorted(zipped, key=lambda x: x[0])), \n",
    "               fmt = \"%s\", delimiter = ',', header = \"Specimen, Value\")"
   ]
  },
  {
   "cell_type": "code",
   "execution_count": null,
   "id": "bc02e889",
   "metadata": {},
   "outputs": [],
   "source": []
  }
 ],
 "metadata": {
  "kernelspec": {
   "display_name": "Python 3 (ipykernel)",
   "language": "python",
   "name": "python3"
  },
  "language_info": {
   "codemirror_mode": {
    "name": "ipython",
    "version": 3
   },
   "file_extension": ".py",
   "mimetype": "text/x-python",
   "name": "python",
   "nbconvert_exporter": "python",
   "pygments_lexer": "ipython3",
   "version": "3.9.12"
  }
 },
 "nbformat": 4,
 "nbformat_minor": 5
}
