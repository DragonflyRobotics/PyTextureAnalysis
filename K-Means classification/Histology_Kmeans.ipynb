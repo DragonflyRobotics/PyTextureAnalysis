{
 "cells": [
  {
   "cell_type": "code",
   "execution_count": 1,
   "id": "718c6815",
   "metadata": {},
   "outputs": [],
   "source": [
    "import matplotlib.pyplot as plt\n",
    "\n",
    "import numpy as np\n",
    "import math\n",
    "\n",
    "import cv2 as cv2\n",
    "\n",
    "import os\n",
    "import os.path\n",
    "\n",
    "import glob\n",
    "\n",
    "import time\n",
    "\n",
    "plt.rcParams.update({'font.size': 12})"
   ]
  },
  {
   "cell_type": "code",
   "execution_count": 2,
   "id": "3c1f21a2",
   "metadata": {},
   "outputs": [
    {
     "name": "stdout",
     "output_type": "stream",
     "text": [
      "['./H72M-6.tif', './H82T-6.tif', './H75T-1.tif', './H75T-2.tif', './H82T-7.tif', './H75T-5.tif', './H82T-8.tif', './H72M-3.tif', './H81T-1.tif', './H80M-3.tif', './H81T-3.tif', './H70T-7.tif', './H82T-4.tif', './H68T-1.tif', './H81M-2.tif', './H71M-3.tif', './H70T-5.tif', './H82M-3.tif', './H70T-6.tif', './H82M-5.tif', './H82M-1.tif', './H82T-11.tif', './H81M-4.tif', './H72M-5.tif', './H80M-2.tif', './H72M-1.tif', './H82T-5.tif', './H75M-4.tif', './H68T-4.tif', './H70M-1.tif', './H82M-4.tif', './H70T-1.tif', './H70M-5.tif', './H68M-7.tif', './H71M-5.tif', './H70T-8.tif', './H74M-3.tif', './H68T-2.tif', './H80M-1.tif', './H81M-1.tif', './H75M-3.tif', './H75T-3.tif', './H72M-2.tif', './H70M-3.tif', './H71M-4.tif', './H80M-5.tif', './H71M-2.tif', './H74M-1.tif', './H80T-5.tif', './H68M-3.tif', './H81T-2.tif', './H80M-4.tif', './H72M-7.tif', './H68M-1.tif', './H68M-4.tif', './H81M-3.tif', './H82M-2.tif', './H68T-6.tif', './H80T-2.tif', './H74M-2.tif', './H72M-4.tif', './H75T-4.tif', './H70T-2.tif', './H82T-10.tif', './H70M-4.tif', './H82T-1.tif', './H82T-9.tif', './H68M-6.tif', './H82M-6.tif', './H71M-6.tif', './H68T-3.tif', './H74M-4.tif', './H80T-3.tif', './H70T-9.tif', './H80T-1.tif', './H72M-8.tif', './H70T-3.tif', './H80T-4.tif', './H68M-2.tif', './H68T-5.tif', './H68M-5.tif', './H71M-1.tif', './H75M-2.tif', './H70T-4.tif', './H75M-1.tif', './H70M-2.tif']\n"
     ]
    }
   ],
   "source": [
    "filenames = glob.glob('./*.tif')\n",
    "\n",
    "print(filenames)"
   ]
  },
  {
   "cell_type": "code",
   "execution_count": 3,
   "id": "ed33048a",
   "metadata": {},
   "outputs": [
    {
     "data": {
      "text/plain": [
       "86"
      ]
     },
     "execution_count": 3,
     "metadata": {},
     "output_type": "execute_result"
    }
   ],
   "source": [
    "len(filenames)"
   ]
  },
  {
   "cell_type": "code",
   "execution_count": 4,
   "id": "1b841935",
   "metadata": {},
   "outputs": [
    {
     "name": "stdout",
     "output_type": "stream",
     "text": [
      "\n"
     ]
    },
    {
     "data": {
      "image/png": "[encoded data removed]",
      "text/plain": [
       "<Figure size 432x288 with 1 Axes>"
      ]
     },
     "metadata": {
      "needs_background": "light"
     },
     "output_type": "display_data"
    }
   ],
   "source": [
    "color_to_be_segmented = [39, 105, 209]\n",
    "\n",
    "color_to_be_segmented = np.asarray(color_to_be_segmented)\n",
    "\n",
    "plt.imshow(np.atleast_3d(color_to_be_segmented).reshape(1, 1, 3))\n",
    "plt.title('Desired Color')\n",
    "plt.axis('off')\n",
    "\n",
    "print()"
   ]
  },
  {
   "cell_type": "code",
   "execution_count": 5,
   "id": "3d749413",
   "metadata": {},
   "outputs": [],
   "source": [
    "def distance(a, b):\n",
    "\n",
    "    return math.hypot(*(v2 - v1 for v1, v2 in zip(a, b)))"
   ]
  },
  {
   "cell_type": "code",
   "execution_count": null,
   "id": "7f5cf08f",
   "metadata": {},
   "outputs": [
    {
     "name": "stdout",
     "output_type": "stream",
     "text": [
      "\n"
     ]
    },
    {
     "data": {
      "image/png": "[encoded data removed]",
      "text/plain": [
       "<Figure size 432x288 with 1 Axes>"
      ]
     },
     "metadata": {
      "needs_background": "light"
     },
     "output_type": "display_data"
    },
    {
     "name": "stdout",
     "output_type": "stream",
     "text": [
      "Finished processing file: H68M-1, with time 74 seconds, with palette (see above).\n",
      "\n"
     ]
    }
   ],
   "source": [
    "print()\n",
    "\n",
    "for filename in sorted(filenames):\n",
    "    \n",
    "    ########################################################\n",
    "    \n",
    "    os.system('rm -rf ' + filename[:-4][2:])\n",
    "    \n",
    "    os.mkdir(filename[:-4])\n",
    "    \n",
    "    ########################################################\n",
    "    \n",
    "    start = time.time()\n",
    "\n",
    "    ########################################################\n",
    "\n",
    "    image = cv2.imread(filename, cv2.IMREAD_COLOR)\n",
    "    \n",
    "    image = cv2.cvtColor(image, cv2.COLOR_BGR2RGB)\n",
    "\n",
    "    h, w, c = image.shape\n",
    "\n",
    "    # reshape to 1D array\n",
    "\n",
    "    image_2d = image.reshape(h * w, c).astype(np.float32)\n",
    "\n",
    "    ##############\n",
    "    \n",
    "    # set number of colors\n",
    "\n",
    "    numcolors = 15\n",
    "\n",
    "    numiters = 30\n",
    "\n",
    "    epsilon = 1\n",
    "\n",
    "    attempts = 30\n",
    "    \n",
    "    ##############\n",
    "    \n",
    "#     numcolors = 12\n",
    "\n",
    "#     numiters = 5\n",
    "\n",
    "#     epsilon = 1\n",
    "\n",
    "#     attempts = 5\n",
    "\n",
    "    ##############\n",
    "\n",
    "    # do kmeans processing\n",
    "\n",
    "    criteria = (cv2.TERM_CRITERIA_EPS + cv2.TERM_CRITERIA_MAX_ITER, \n",
    "                numiters, epsilon)\n",
    "\n",
    "    ret, labels, centers = cv2.kmeans(image_2d, numcolors, \n",
    "                                      None, criteria, attempts, \n",
    "                                      cv2.KMEANS_RANDOM_CENTERS)\n",
    "\n",
    "    ########################################################\n",
    "\n",
    "    # reconstitute 2D image of results\n",
    "\n",
    "    centers = np.uint8(centers)\n",
    "\n",
    "    newimage = centers[labels.flatten()]\n",
    "\n",
    "    newimage = newimage.reshape(image.shape)\n",
    "\n",
    "    ########################################################\n",
    "    \n",
    "    palette = np.array(centers)[np.newaxis, :, :]\n",
    "\n",
    "    plt.figure(figsize = (10, 4))\n",
    "\n",
    "    plt.imshow(palette)\n",
    "\n",
    "    plt.axis('off')\n",
    "\n",
    "    file_string = filename[:-4] + '/Palette.tif'\n",
    "    \n",
    "    plt.savefig(file_string)\n",
    "        \n",
    "    plt.close()\n",
    "    \n",
    "    ########################################################\n",
    "\n",
    "    closest = sorted(centers, key = lambda x: distance(color_to_be_segmented, x))\n",
    "\n",
    "    closest_color = closest[0]\n",
    "    \n",
    "    layer = newimage.copy()\n",
    "\n",
    "    mask = cv2.inRange(layer, closest_color, closest_color)\n",
    "\n",
    "    layer[mask == 0] = [255, 255, 255]\n",
    "\n",
    "    cv2.imwrite(os.path.join(filename[:-4], 'Closest_Segmented_Image.tif'), layer)\n",
    "    \n",
    "    ########################################################\n",
    "\n",
    "    k = 0\n",
    "\n",
    "    for center in centers:\n",
    "\n",
    "        layer = newimage.copy()\n",
    "\n",
    "        mask = cv2.inRange(layer, center, center)\n",
    "\n",
    "        layer[mask == 0] = [255, 255, 255]\n",
    "\n",
    "        cv2.imwrite(os.path.join(filename[:-4], 'Layer_' + str(k) + '.tif'), layer)\n",
    "        \n",
    "        k = k + 1\n",
    "\n",
    "    ########################################################\n",
    "    \n",
    "    os.system('cp ' + filename[2:] + ' ' + filename[:-4] +'/')\n",
    "    \n",
    "    ########################################################\n",
    "    \n",
    "    del ret, labels, centers, layer, mask, newimage\n",
    "\n",
    "    ########################################################\n",
    "    \n",
    "    end = time.time()\n",
    "    \n",
    "    ########################################################\n",
    "    \n",
    "    plt.imshow(palette)\n",
    "\n",
    "    plt.axis('off')\n",
    "    \n",
    "    plt.show()\n",
    "    \n",
    "    print('Finished processing file: ' + filename[:-4][2:] + \n",
    "          ', with time ' + str(np.int32(end - start)) + ' seconds, with palette (see above).')\n",
    "    \n",
    "    print()\n",
    "    \n",
    "    ########################################################\n",
    "        \n",
    "print()"
   ]
  },
  {
   "cell_type": "code",
   "execution_count": null,
   "id": "e12130cd",
   "metadata": {},
   "outputs": [],
   "source": []
  }
 ],
 "metadata": {
  "kernelspec": {
   "display_name": "Python 3 (ipykernel)",
   "language": "python",
   "name": "python3"
  },
  "language_info": {
   "codemirror_mode": {
    "name": "ipython",
    "version": 3
   },
   "file_extension": ".py",
   "mimetype": "text/x-python",
   "name": "python",
   "nbconvert_exporter": "python",
   "pygments_lexer": "ipython3",
   "version": "3.9.12"
  }
 },
 "nbformat": 4,
 "nbformat_minor": 5
}
