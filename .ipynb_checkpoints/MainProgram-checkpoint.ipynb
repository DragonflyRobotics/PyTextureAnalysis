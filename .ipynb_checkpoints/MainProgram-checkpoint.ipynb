{
 "cells": [
  {
   "cell_type": "code",
   "execution_count": null,
   "id": "9e7e48c7",
   "metadata": {},
   "outputs": [],
   "source": [
    "import sys\n",
    "\n",
    "# Don't generate the __pycache__ folder locally\n",
    "sys.dont_write_bytecode = True \n",
    "\n",
    "# Print exception without the buit-in python warning\n",
    "sys.tracebacklimit = 0 "
   ]
  },
  {
   "cell_type": "code",
   "execution_count": null,
   "id": "ada0e7a4",
   "metadata": {},
   "outputs": [],
   "source": [
    "import matplotlib.pyplot as plt\n",
    "%config InlineBackend.figure_format='retina'\n",
    "plt.rcParams.update({'font.size': 12})\n",
    "from mpl_toolkits.axes_grid1 import make_axes_locatable, axes_size\n",
    "\n",
    "import skimage as skimage"
   ]
  },
  {
   "cell_type": "code",
   "execution_count": null,
   "id": "87ab26f8",
   "metadata": {},
   "outputs": [],
   "source": [
    "from tqdm.notebook import tqdm"
   ]
  },
  {
   "cell_type": "code",
   "execution_count": null,
   "id": "0bb0ae80",
   "metadata": {},
   "outputs": [],
   "source": [
    "from read_image import *\n",
    "from make_binarization import *\n",
    "from make_convolution import *\n",
    "from make_image_gradients import *\n",
    "from make_structure_tensor_2d import *\n",
    "from make_coherence import *\n",
    "from make_orientation import *\n",
    "from make_vxvy import *"
   ]
  },
  {
   "cell_type": "code",
   "execution_count": null,
   "id": "22b9e9c2",
   "metadata": {},
   "outputs": [],
   "source": [
    "FilterKey = 1\n",
    "LocalDensityKey = 10\n",
    "LocalSigmaKey = 50\n",
    "ThresholdValueKey = 20\n",
    "each_chunk_size = int(max(LocalDensityKey, LocalSigmaKey))"
   ]
  },
  {
   "cell_type": "code",
   "execution_count": null,
   "id": "814506eb",
   "metadata": {},
   "outputs": [],
   "source": [
    "aspect = 20\n",
    "pad_fraction = 0.5"
   ]
  },
  {
   "cell_type": "code",
   "execution_count": null,
   "id": "daf89d12",
   "metadata": {},
   "outputs": [],
   "source": [
    "import numpy as np\n",
    "import matplotlib.pyplot as plt\n",
    "\n",
    "def show_mosaic(chunks, cmap = 'viridis'):\n",
    "    \"\"\"\n",
    "    Shows a mosaic of the original image, constructed from its chunks, as n x n subplots with reduced borders.\n",
    "    \n",
    "    Parameters:\n",
    "        img (numpy.ndarray): The input 2D grayscale image.\n",
    "        chunks (list): A list of chunks, each of size chunk_size x chunk_size.\n",
    "        overlap_pixels (int): The overlap between chunks, in pixels.\n",
    "    \"\"\"\n",
    "    \n",
    "    # Calculate the number of rows and columns\n",
    "    n = int(np.ceil(np.sqrt(len(chunks))))\n",
    "    \n",
    "    fig, axs = plt.subplots(n, n, figsize=(5, 5))\n",
    "    plt.subplots_adjust(wspace=0.05, hspace=0.05)\n",
    "    for i, chunk in enumerate(chunks):\n",
    "        row = i // n\n",
    "        col = i % n\n",
    "        axs[row, col].imshow(chunk, cmap = cmap)\n",
    "        axs[row, col].set_xticks([])\n",
    "        axs[row, col].set_yticks([])\n",
    "\n",
    "    plt.show()"
   ]
  },
  {
   "cell_type": "code",
   "execution_count": null,
   "id": "8290104c",
   "metadata": {},
   "outputs": [],
   "source": [
    "import numpy as np\n",
    "\n",
    "def split_into_chunks(img, chunk_size):\n",
    "    \"\"\"\n",
    "    Splits a 2D grayscale image into chunks of a given size.\n",
    "    \n",
    "    Parameters:\n",
    "        img (numpy.ndarray): The input 2D grayscale image.\n",
    "        chunk_size (int): The size of the chunks to split \n",
    "        the image into.\n",
    "        overlap_pixels (int): The overlap between chunks, \n",
    "        in pixels.\n",
    "        \n",
    "    Returns:\n",
    "        list: A list of chunks, each of \n",
    "        size chunk_size x chunk_size.\n",
    "        numpy.ndarray: The padded image, with \n",
    "        size padded_size x padded_size, where padded_size is a multiple of chunk_size.\n",
    "    \"\"\"    \n",
    "    # Divide the image into chunks\n",
    "    chunks = []\n",
    "    for i in range(0, img.shape[0] - chunk_size + 1, chunk_size):\n",
    "        for j in range(0, img.shape[1] - chunk_size + 1, chunk_size ):\n",
    "            chunk = img[i:i + chunk_size, j:j + chunk_size]\n",
    "            chunks.append(chunk)\n",
    "            \n",
    "    return chunks"
   ]
  },
  {
   "cell_type": "code",
   "execution_count": null,
   "id": "cff4a85f",
   "metadata": {},
   "outputs": [],
   "source": [
    "def make_padded_image(img, chunk_size):\n",
    "    # Pad the image to make it square and a multiple of chunk_size\n",
    "    max_size = max(img.shape)\n",
    "    padded_size = max_size + (chunk_size - max_size % chunk_size) % chunk_size\n",
    "    \n",
    "#     padded_img = np.full((padded_size, padded_size), np.inf)\n",
    "    padded_img = np.zeros((padded_size, padded_size))\n",
    "\n",
    "    padded_img[:img.shape[0], :img.shape[1]] = img\n",
    "\n",
    "    return padded_img"
   ]
  },
  {
   "cell_type": "code",
   "execution_count": null,
   "id": "a29dc7d0",
   "metadata": {},
   "outputs": [],
   "source": [
    "def stitch_chunks(analyzed_chunk_list, padded_img, img, chunk_size):\n",
    "    # Calculate the number of chunks in each dimension\n",
    "    num_chunks = padded_img.shape[0] // chunk_size\n",
    "\n",
    "    # Initialize a new NumPy array for the reconstructed image\n",
    "    \n",
    "    reconstructed_img = np.full(padded_img.shape, np.inf)\n",
    "#     reconstructed_img = np.zeros((padded_img.shape))\n",
    "\n",
    "    # Iterate over each chunk and copy it back to the correct location in the reconstructed image\n",
    "    for i in range(len(analyzed_chunk_list)):\n",
    "        row = i // num_chunks\n",
    "        col = i % num_chunks\n",
    "        \n",
    "        chunk = analyzed_chunk_list[i]\n",
    "        start_row = row * chunk_size\n",
    "        end_row = start_row + chunk_size\n",
    "        \n",
    "        start_col = col * chunk_size\n",
    "        end_col = start_col + chunk_size\n",
    "        reconstructed_img[start_row:end_row, start_col:end_col] = chunk\n",
    "\n",
    "    # Crop the reconstructed image to the size of the original input image\n",
    "    reconstructed_img = reconstructed_img[:img.shape[0], :img.shape[1]]\n",
    "\n",
    "    return reconstructed_img"
   ]
  },
  {
   "cell_type": "code",
   "execution_count": null,
   "id": "114ebc42",
   "metadata": {},
   "outputs": [],
   "source": [
    "raw_image = convert_to_8bit_grayscale('/Users/ajinkyakulkarni/Desktop/cl02.tif')\n",
    "\n",
    "# raw_image = convert_to_8bit_grayscale('TestImage1.tif')\n",
    "\n",
    "plt.imshow(raw_image, cmap='cividis')\n",
    "plt.colorbar()\n",
    "plt.xticks([])\n",
    "plt.yticks([])\n",
    "plt.title(raw_image.shape)\n",
    "plt.show()"
   ]
  },
  {
   "cell_type": "code",
   "execution_count": null,
   "id": "12cac92f",
   "metadata": {},
   "outputs": [],
   "source": [
    "each_chunk_size = int(each_chunk_size)"
   ]
  },
  {
   "cell_type": "code",
   "execution_count": null,
   "id": "c573924e",
   "metadata": {},
   "outputs": [],
   "source": [
    "padded_raw_image = make_padded_image(raw_image, each_chunk_size)"
   ]
  },
  {
   "cell_type": "code",
   "execution_count": null,
   "id": "4d13de17",
   "metadata": {},
   "outputs": [],
   "source": [
    "plt.imshow(padded_raw_image, cmap='cividis')\n",
    "plt.colorbar()\n",
    "plt.xticks([])\n",
    "plt.yticks([])\n",
    "plt.title(padded_raw_image.shape)\n",
    "plt.show()"
   ]
  },
  {
   "cell_type": "code",
   "execution_count": null,
   "id": "2324a4bd",
   "metadata": {},
   "outputs": [],
   "source": [
    "chunks = split_into_chunks(padded_raw_image, each_chunk_size)\n",
    "\n",
    "len(chunks)"
   ]
  },
  {
   "cell_type": "code",
   "execution_count": null,
   "id": "8fae8339",
   "metadata": {},
   "outputs": [],
   "source": [
    "# show_mosaic(chunks, cmap = 'cividis')"
   ]
  },
  {
   "cell_type": "code",
   "execution_count": null,
   "id": "ed6483d7",
   "metadata": {},
   "outputs": [],
   "source": [
    "print()\n",
    "\n",
    "# Local_Density_list = []\n",
    "Image_Coherance_list = []\n",
    "Image_Orientation_list = []\n",
    "\n",
    "for i in tqdm(range(len(chunks))):\n",
    "    \n",
    "    ##################\n",
    "    \n",
    "    current_chunk = chunks[i]\n",
    "\n",
    "    filtered_chunk = skimage.filters.gaussian(current_chunk, \n",
    "                                              sigma = FilterKey, \n",
    "                                              mode = 'nearest', \n",
    "                                              preserve_range = True)\n",
    "    \n",
    "    binarized_chunk = binarize_image(filtered_chunk)\n",
    "    \n",
    "#     # Define the kernel and it's size\n",
    "#     local_kernel_size = LocalDensityKey\n",
    "#     if (local_kernel_size % 2 == 0):\n",
    "#         local_kernel_size = local_kernel_size + 1\n",
    "#     if (local_kernel_size < 3):\n",
    "#         local_kernel_size = 3\n",
    "# \n",
    "#     local_kernel = np.ones((local_kernel_size, local_kernel_size), \n",
    "#                            dtype = np.float32) / (local_kernel_size * local_kernel_size)\n",
    "\n",
    "#     Local_Density = convolve(binarized_chunk, local_kernel)\n",
    "    \n",
    "#     # Normalize Local_Density between 0 and 1\n",
    "#     if (Local_Density.max() > 0):\n",
    "#         Local_Density = Local_Density / Local_Density.max()\n",
    "#     else:\n",
    "#         raise Exception('Local_Density might be an empty image in this chunk')\n",
    "\n",
    "    # Calculate image gradients in X and Y directions\n",
    "    image_gradient_x, image_gradient_y = make_image_gradients(filtered_chunk)\n",
    "    \n",
    "    # Calculate the structure tensor and solve for EigenValues, EigenVectors\n",
    "        \n",
    "    Structure_Tensor, EigenValues, EigenVectors, Jxx, Jxy, Jyy = make_structure_tensor_2d(image_gradient_x, \n",
    "                                                                                          image_gradient_y, \n",
    "                                                                                          LocalSigmaKey)\n",
    "    \n",
    "    Image_Coherance = make_coherence(filtered_chunk, EigenValues, Structure_Tensor, ThresholdValueKey)\n",
    "    \n",
    "    Image_Orientation = make_orientation(filtered_chunk, Jxx, Jxy, Jyy, ThresholdValueKey)\n",
    "    vx, vy = make_vxvy(filtered_chunk, EigenVectors, ThresholdValueKey)\n",
    "    \n",
    "    ##################\n",
    "    \n",
    "#     Local_Density_list.append(Local_Density)\n",
    "    Image_Coherance_list.append(Image_Coherance)\n",
    "    Image_Orientation_list.append(Image_Orientation)\n",
    "    \n",
    "#     local_density = np.where(local_density == 0, np.nan, local_density)\n",
    "\n",
    "print()"
   ]
  },
  {
   "cell_type": "code",
   "execution_count": null,
   "id": "26bb4181",
   "metadata": {},
   "outputs": [],
   "source": [
    "Image_Orientation = stitch_chunks(Image_Orientation_list, \n",
    "                                  padded_raw_image, raw_image, \n",
    "                                  each_chunk_size)"
   ]
  },
  {
   "cell_type": "code",
   "execution_count": null,
   "id": "52d4dc19",
   "metadata": {},
   "outputs": [],
   "source": [
    "Image_Coherance = stitch_chunks(Image_Coherance_list, \n",
    "                                padded_raw_image, raw_image, \n",
    "                                each_chunk_size)"
   ]
  },
  {
   "cell_type": "code",
   "execution_count": null,
   "id": "34b47b34",
   "metadata": {},
   "outputs": [],
   "source": [
    "fig = plt.figure(figsize = (8, 4), constrained_layout = True)\n",
    "# plt.imshow(Image_Coherance, cmap='Spectral_r', vmin = 0, vmax = 1)\n",
    "im = plt.imshow(plt.cm.gray(raw_image/raw_image.max()) * plt.cm.Spectral_r(Image_Coherance), \n",
    "            vmin = 0, vmax = 1, cmap = 'Spectral_r')\n",
    "plt.xticks([])\n",
    "plt.yticks([])\n",
    "ax = plt.gca()\n",
    "divider = make_axes_locatable(ax)\n",
    "width = axes_size.AxesY(ax, aspect=1./aspect)\n",
    "pad = axes_size.Fraction(pad_fraction, width)\n",
    "cax = divider.append_axes(\"right\", size=width, pad=pad)\n",
    "cbar = plt.colorbar(im, cax=cax)\n",
    "cbar.ax.tick_params(labelsize = 12)\n",
    "\n",
    "plt.show()"
   ]
  },
  {
   "cell_type": "code",
   "execution_count": null,
   "id": "77e61676",
   "metadata": {},
   "outputs": [],
   "source": [
    "fig = plt.figure(figsize = (8, 4), constrained_layout = True)\n",
    "# plt.imshow(Image_Orientation, cmap='hsv', vmin = 0, vmax = 180)\n",
    "im = plt.imshow(plt.cm.gray(raw_image/raw_image.max()) * plt.cm.hsv(Image_Orientation/180), \n",
    "           vmin = 0, vmax = 1, cmap = 'hsv')\n",
    "plt.xticks([])\n",
    "plt.yticks([])\n",
    "ax = plt.gca()\n",
    "divider = make_axes_locatable(ax)\n",
    "width = axes_size.AxesY(ax, aspect=1./aspect)\n",
    "pad = axes_size.Fraction(pad_fraction, width)\n",
    "cax = divider.append_axes(\"right\", size=width, pad=pad)\n",
    "cbar = fig.colorbar(im, cax = cax, ticks = np.linspace(0, 1, 5))\n",
    "cbar.ax.set_yticklabels([r'$0^{\\circ}$', r'$45^{\\circ}$', r'$90^{\\circ}$', r'$135^{\\circ}$', r'$180^{\\circ}$'])\n",
    "ticklabs = cbar.ax.get_yticklabels()\n",
    "cbar.ax.set_yticklabels(ticklabs, fontsize = 12)\n",
    "\n",
    "plt.show()"
   ]
  },
  {
   "cell_type": "code",
   "execution_count": null,
   "id": "dfa61902",
   "metadata": {},
   "outputs": [],
   "source": []
  }
 ],
 "metadata": {
  "kernelspec": {
   "display_name": "Python 3 (ipykernel)",
   "language": "python",
   "name": "python3"
  },
  "language_info": {
   "codemirror_mode": {
    "name": "ipython",
    "version": 3
   },
   "file_extension": ".py",
   "mimetype": "text/x-python",
   "name": "python",
   "nbconvert_exporter": "python",
   "pygments_lexer": "ipython3",
   "version": "3.9.13"
  }
 },
 "nbformat": 4,
 "nbformat_minor": 5
}
