{
 "cells": [
  {
   "cell_type": "code",
   "execution_count": 1,
   "id": "9e7e48c7",
   "metadata": {},
   "outputs": [],
   "source": [
    "import numpy as np\n",
    "import matplotlib.pyplot as plt\n",
    "\n",
    "from scipy import ndimage\n",
    "import cv2 as cv\n",
    "import scipy.ndimage\n",
    "import skimage as skimage\n",
    "\n",
    "%config InlineBackend.figure_format ='retina'\n",
    "plt.rcParams.update({'font.size': 12})\n",
    "from mpl_toolkits.axes_grid1 import make_axes_locatable, axes_size\n",
    "\n",
    "from tqdm.notebook import tqdm\n",
    "\n",
    "import sys\n",
    "# Don't generate the __pycache__ folder locally\n",
    "sys.dont_write_bytecode = True \n",
    "# Print exception without the buit-in python warning\n",
    "sys.tracebacklimit = 0"
   ]
  },
  {
   "cell_type": "code",
   "execution_count": 2,
   "id": "c0bd8465",
   "metadata": {},
   "outputs": [],
   "source": [
    "from modules import *"
   ]
  },
  {
   "cell_type": "code",
   "execution_count": 3,
   "id": "22b9e9c2",
   "metadata": {},
   "outputs": [],
   "source": [
    "FilterKey = 1\n",
    "LocalSigmaKey = 20\n",
    "ThresholdValueKey = 20\n",
    "each_chunk_size = LocalSigmaKey\n",
    "\n",
    "aspect = 20\n",
    "pad_fraction = 0.5\n",
    "\n",
    "SpacingKey = 20 # Spacing between plotting the orientation vectors\n",
    "ScaleKey = 60 # Length of each vector for plotting"
   ]
  },
  {
   "cell_type": "code",
   "execution_count": 4,
   "id": "e11bb35c",
   "metadata": {},
   "outputs": [],
   "source": [
    "raw_image = convert_to_8bit_grayscale('TestImage1.tif')\n",
    "\n",
    "############################################################\n",
    "\n",
    "filtered_image = skimage.filters.gaussian(raw_image, sigma = FilterKey, mode = 'nearest', preserve_range = True)\n",
    "\n",
    "############################################################\n",
    "\n",
    "binarized_image = binarize_image(filtered_image)\n",
    "\n",
    "############################################################\n",
    "\n",
    "LocalDensityKey = 10\n",
    "\n",
    "# Define the kernel and it's size\n",
    "local_kernel_size = LocalDensityKey\n",
    "if (local_kernel_size % 2 == 0):\n",
    "    local_kernel_size = local_kernel_size + 1\n",
    "if (local_kernel_size < 3):\n",
    "    local_kernel_size = 3\n",
    "\n",
    "local_kernel = np.ones((local_kernel_size, local_kernel_size), \n",
    "                       dtype = np.float32) / (local_kernel_size * local_kernel_size)\n",
    "\n",
    "############################################################\n",
    "\n",
    "Local_Density = convolve(binarized_image, local_kernel)\n",
    "\n",
    "Local_Density = np.divide(Local_Density, Local_Density.max(), \n",
    "                          out=np.full(Local_Density.shape, np.nan), \n",
    "                          where=Local_Density.max() != 0)"
   ]
  },
  {
   "cell_type": "code",
   "execution_count": 5,
   "id": "edd6b084",
   "metadata": {},
   "outputs": [],
   "source": [
    "fig = plt.figure(figsize = (8, 6))\n",
    "im = plt.imshow(Local_Density, vmin = 0, vmax = 1, cmap = 'binary')\n",
    "\n",
    "plt.title('Local Density')\n",
    "plt.xticks([])\n",
    "plt.yticks([])\n",
    "\n",
    "ax = plt.gca()\n",
    "divider = make_axes_locatable(ax)\n",
    "width = axes_size.AxesY(ax, aspect=1./aspect)\n",
    "pad = axes_size.Fraction(pad_fraction, width)\n",
    "cax = divider.append_axes(\"right\", size=width, pad=pad)\n",
    "cbar = plt.colorbar(im, cax=cax)\n",
    "cbar.formatter.set_powerlimits((0, 0))\n",
    "# cbar.formatter.set_useMathText(True)\n",
    "cbar.ax.tick_params(labelsize = 12)\n",
    "\n",
    "plt.savefig('Local_Density.pdf')\n",
    "plt.close()"
   ]
  },
  {
   "cell_type": "code",
   "execution_count": 6,
   "id": "12cac92f",
   "metadata": {},
   "outputs": [],
   "source": [
    "each_chunk_size = int(each_chunk_size)"
   ]
  },
  {
   "cell_type": "code",
   "execution_count": 7,
   "id": "c573924e",
   "metadata": {},
   "outputs": [],
   "source": [
    "padded_raw_image = generate_padded_image(raw_image, each_chunk_size)"
   ]
  },
  {
   "cell_type": "code",
   "execution_count": 8,
   "id": "2324a4bd",
   "metadata": {},
   "outputs": [
    {
     "data": {
      "text/plain": [
       "676"
      ]
     },
     "execution_count": 8,
     "metadata": {},
     "output_type": "execute_result"
    }
   ],
   "source": [
    "chunks = split_into_chunks(padded_raw_image, each_chunk_size)\n",
    "\n",
    "len(chunks)"
   ]
  },
  {
   "cell_type": "code",
   "execution_count": 9,
   "id": "8fae8339",
   "metadata": {},
   "outputs": [],
   "source": [
    "# show_mosaic(chunks, cmap = 'cividis')"
   ]
  },
  {
   "cell_type": "code",
   "execution_count": 10,
   "id": "ed6483d7",
   "metadata": {},
   "outputs": [
    {
     "name": "stdout",
     "output_type": "stream",
     "text": [
      "\n"
     ]
    },
    {
     "data": {
      "application/vnd.jupyter.widget-view+json": {
       "model_id": "f9f1deee6f934342adf8ba7d39db77da",
       "version_major": 2,
       "version_minor": 0
      },
      "text/plain": [
       "  0%|          | 0/676 [00:00<?, ?it/s]"
      ]
     },
     "metadata": {},
     "output_type": "display_data"
    },
    {
     "name": "stdout",
     "output_type": "stream",
     "text": [
      "\n"
     ]
    }
   ],
   "source": [
    "print()\n",
    "\n",
    "Image_Coherance_list = []\n",
    "Image_Orientation_list = []\n",
    "vx_list = []\n",
    "vy_list = []\n",
    "\n",
    "for i in tqdm(range(len(chunks))):\n",
    "    \n",
    "    ##################\n",
    "    \n",
    "    current_chunk = chunks[i]\n",
    "\n",
    "    filtered_chunk = skimage.filters.gaussian(current_chunk, \n",
    "                                              sigma = FilterKey, \n",
    "                                              mode = 'nearest', \n",
    "                                              preserve_range = True)\n",
    "\n",
    "    # Calculate image gradients in X and Y directions\n",
    "    image_gradient_x, image_gradient_y = make_image_gradients(filtered_chunk)\n",
    "\n",
    "    # Calculate the structure tensor and solve for EigenValues, EigenVectors\n",
    "        \n",
    "    Structure_Tensor, EigenValues, EigenVectors, Jxx, Jxy, Jyy = make_structure_tensor_2d(image_gradient_x, \n",
    "                                                                                          image_gradient_y, \n",
    "                                                                                          LocalSigmaKey)\n",
    "\n",
    "    Image_Coherance = make_coherence(filtered_chunk, EigenValues, Structure_Tensor, ThresholdValueKey)\n",
    "    \n",
    "    Image_Orientation = make_orientation(filtered_chunk, Jxx, Jxy, Jyy, ThresholdValueKey)\n",
    "    vx, vy = make_vxvy(filtered_chunk, EigenVectors, ThresholdValueKey)\n",
    "\n",
    "    ##################\n",
    "    \n",
    "    Image_Coherance_list.append(Image_Coherance)\n",
    "    Image_Orientation_list.append(Image_Orientation)\n",
    "    vx_list.append(vx)\n",
    "    vy_list.append(vy)\n",
    "\n",
    "print()"
   ]
  },
  {
   "cell_type": "code",
   "execution_count": 11,
   "id": "26bb4181",
   "metadata": {},
   "outputs": [],
   "source": [
    "Image_Orientation = stitch_back_chunks(Image_Orientation_list, padded_raw_image, raw_image, each_chunk_size)"
   ]
  },
  {
   "cell_type": "code",
   "execution_count": 12,
   "id": "52d4dc19",
   "metadata": {},
   "outputs": [],
   "source": [
    "Image_Coherance = stitch_back_chunks(Image_Coherance_list, padded_raw_image, raw_image, each_chunk_size)"
   ]
  },
  {
   "cell_type": "code",
   "execution_count": 13,
   "id": "74a88985",
   "metadata": {},
   "outputs": [],
   "source": [
    "vx = stitch_back_chunks(vx_list, padded_raw_image, raw_image, each_chunk_size)\n",
    "vy = stitch_back_chunks(vy_list, padded_raw_image, raw_image, each_chunk_size)"
   ]
  },
  {
   "cell_type": "code",
   "execution_count": 14,
   "id": "34b47b34",
   "metadata": {},
   "outputs": [],
   "source": [
    "fig = plt.figure(figsize = (8, 6))\n",
    "\n",
    "# im = plt.imshow(Image_Coherance, vmin = 0, vmax = 1, cmap='Spectral_r')\n",
    "im = plt.imshow(plt.cm.gray(raw_image/raw_image.max()) * plt.cm.Spectral_r(Image_Coherance), \n",
    "            vmin = 0, vmax = 1, cmap = 'Spectral_r')\n",
    "\n",
    "plt.title('Coherance')\n",
    "\n",
    "plt.xticks([])\n",
    "plt.yticks([])\n",
    "ax = plt.gca()\n",
    "divider = make_axes_locatable(ax)\n",
    "width = axes_size.AxesY(ax, aspect=1./aspect)\n",
    "pad = axes_size.Fraction(pad_fraction, width)\n",
    "cax = divider.append_axes(\"right\", size=width, pad=pad)\n",
    "cbar = plt.colorbar(im, cax=cax, cmap='Spectral_r')\n",
    "cbar.ax.tick_params(labelsize = 12)\n",
    "\n",
    "plt.savefig('Coherance.pdf')\n",
    "plt.close()"
   ]
  },
  {
   "cell_type": "code",
   "execution_count": 15,
   "id": "77e61676",
   "metadata": {},
   "outputs": [],
   "source": [
    "fig = plt.figure(figsize = (8, 6))\n",
    "\n",
    "# im = plt.imshow(Image_Orientation, vmin = 0, vmax = 180, cmap='hsv')\n",
    "im = plt.imshow(plt.cm.gray(raw_image/raw_image.max()) * plt.cm.hsv(Image_Orientation/180), \n",
    "           vmin = 0, vmax = 1, cmap = 'hsv')\n",
    "\n",
    "plt.title('Orientation')\n",
    "\n",
    "plt.xticks([])\n",
    "plt.yticks([])\n",
    "ax = plt.gca()\n",
    "divider = make_axes_locatable(ax)\n",
    "width = axes_size.AxesY(ax, aspect=1./aspect)\n",
    "pad = axes_size.Fraction(pad_fraction, width)\n",
    "cax = divider.append_axes(\"right\", size=width, pad=pad)\n",
    "cbar = fig.colorbar(im, cax = cax, ticks = np.linspace(0, 1, 5))\n",
    "cbar.ax.set_yticklabels([r'$0^{\\circ}$', r'$45^{\\circ}$', r'$90^{\\circ}$', r'$135^{\\circ}$', r'$180^{\\circ}$'])\n",
    "ticklabs = cbar.ax.get_yticklabels()\n",
    "cbar.ax.set_yticklabels(ticklabs, fontsize = 12)\n",
    "\n",
    "plt.savefig('Orientation.pdf')\n",
    "plt.close()"
   ]
  },
  {
   "cell_type": "code",
   "execution_count": 16,
   "id": "1b10a175",
   "metadata": {},
   "outputs": [],
   "source": [
    "fig = plt.figure(figsize = (8, 6))\n",
    "\n",
    "im = plt.imshow(raw_image, \n",
    "                vmin = 0, vmax = 255, \n",
    "                cmap = 'Oranges', alpha = 0.8)\n",
    "\n",
    "plt.title('Local Orientation')\n",
    "\n",
    "xmesh, ymesh = np.meshgrid(np.arange(raw_image.shape[0]), np.arange(raw_image.shape[1]), indexing = 'ij')\n",
    "\n",
    "plt.quiver(ymesh[SpacingKey//2::SpacingKey, SpacingKey//2::SpacingKey], xmesh[SpacingKey//2::SpacingKey, SpacingKey//2::SpacingKey], vy[SpacingKey//2::SpacingKey, SpacingKey//2::SpacingKey], vx[SpacingKey//2::SpacingKey, SpacingKey//2::SpacingKey],\n",
    "scale = ScaleKey, headlength = 0, headaxislength = 0, \n",
    "pivot = 'middle', color = 'black', angles = 'xy')\n",
    "\n",
    "plt.xticks([])\n",
    "plt.yticks([])\n",
    "\n",
    "ax = plt.gca()\n",
    "divider = make_axes_locatable(ax)\n",
    "width = axes_size.AxesY(ax, aspect=1./aspect)\n",
    "pad = axes_size.Fraction(pad_fraction, width)\n",
    "cax = divider.append_axes(\"right\", size=width, pad=pad)\n",
    "cbar = plt.colorbar(im, cax=cax)\n",
    "cbar.ax.tick_params(labelsize = 12)\n",
    "\n",
    "plt.savefig('Local_Orientation.pdf')\n",
    "plt.close()"
   ]
  },
  {
   "cell_type": "code",
   "execution_count": null,
   "id": "ca0b53e8",
   "metadata": {},
   "outputs": [],
   "source": []
  }
 ],
 "metadata": {
  "kernelspec": {
   "display_name": "Python 3 (ipykernel)",
   "language": "python",
   "name": "python3"
  },
  "language_info": {
   "codemirror_mode": {
    "name": "ipython",
    "version": 3
   },
   "file_extension": ".py",
   "mimetype": "text/x-python",
   "name": "python",
   "nbconvert_exporter": "python",
   "pygments_lexer": "ipython3",
   "version": "3.9.16"
  }
 },
 "nbformat": 4,
 "nbformat_minor": 5
}
