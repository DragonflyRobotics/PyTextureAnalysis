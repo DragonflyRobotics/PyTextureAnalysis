{
 "cells": [
  {
   "cell_type": "code",
   "execution_count": 1,
   "id": "e3bf6d6f",
   "metadata": {},
   "outputs": [],
   "source": [
    "import numpy as np\n",
    "import matplotlib.pyplot as plt\n",
    "\n",
    "from scipy import ndimage\n",
    "import cv2 as cv\n",
    "import scipy.ndimage\n",
    "import skimage as skimage\n",
    "\n",
    "%config InlineBackend.figure_format ='retina'\n",
    "plt.rcParams.update({'font.size': 15})\n",
    "from mpl_toolkits.axes_grid1 import make_axes_locatable\n",
    "\n",
    "import sys\n",
    "\n",
    "# Don't generate the __pycache__ folder locally\n",
    "sys.dont_write_bytecode = True \n",
    "\n",
    "# Print exception without the buit-in python warning\n",
    "sys.tracebacklimit = 0 "
   ]
  },
  {
   "cell_type": "code",
   "execution_count": 2,
   "id": "9cf77ae7",
   "metadata": {},
   "outputs": [],
   "source": [
    "from modules import *"
   ]
  },
  {
   "cell_type": "code",
   "execution_count": 3,
   "id": "b5958dfb",
   "metadata": {},
   "outputs": [],
   "source": [
    "raw_image = convert_to_8bit_grayscale('TestImage1.tif')"
   ]
  },
  {
   "cell_type": "code",
   "execution_count": 4,
   "id": "980dc8c6",
   "metadata": {},
   "outputs": [],
   "source": [
    "image_filter_sigma = 1\n",
    "local_sigma = 10\n",
    "threshold_value = max(int(0.5 * np.median(raw_image)), 2)\n",
    "\n",
    "spacing = 20 # Spacing between plotting the orientation vectors\n",
    "scale = 60 # Length of each vector for plotting"
   ]
  },
  {
   "cell_type": "code",
   "execution_count": 5,
   "id": "c694abc7",
   "metadata": {},
   "outputs": [],
   "source": [
    "filtered_image = skimage.filters.gaussian(raw_image, \n",
    "                                          sigma = image_filter_sigma, \n",
    "                                          mode = 'nearest', \n",
    "                                          preserve_range = True)"
   ]
  },
  {
   "cell_type": "code",
   "execution_count": 6,
   "id": "9d6a6545",
   "metadata": {},
   "outputs": [],
   "source": [
    "image_gradient_x, image_gradient_y = make_image_gradients(filtered_image)"
   ]
  },
  {
   "cell_type": "code",
   "execution_count": 7,
   "id": "f9a4cc0c",
   "metadata": {},
   "outputs": [],
   "source": [
    "Structure_Tensor, EigenValues, EigenVectors, Jxx, Jxy, Jyy = make_structure_tensor_2d(image_gradient_x, \n",
    "                                                                                      image_gradient_y, \n",
    "                                                                                      local_sigma)"
   ]
  },
  {
   "cell_type": "code",
   "execution_count": 8,
   "id": "041a58b0",
   "metadata": {},
   "outputs": [],
   "source": [
    "Image_Coherance = make_coherence(filtered_image, \n",
    "                                 EigenValues, \n",
    "                                 Structure_Tensor,\n",
    "                                 threshold_value)"
   ]
  },
  {
   "cell_type": "code",
   "execution_count": 9,
   "id": "ed589789",
   "metadata": {},
   "outputs": [],
   "source": [
    "Image_Orientation = make_orientation(filtered_image, \n",
    "                                     Jxx, Jxy, Jyy, \n",
    "                                     threshold_value)"
   ]
  },
  {
   "cell_type": "code",
   "execution_count": 10,
   "id": "0dfe7fea",
   "metadata": {},
   "outputs": [],
   "source": [
    "vx, vy = make_vxvy(filtered_image, EigenVectors, threshold_value)"
   ]
  },
  {
   "cell_type": "code",
   "execution_count": 11,
   "id": "804787ae",
   "metadata": {},
   "outputs": [],
   "source": [
    "fig, ax = plt.subplots(1, 4, figsize = (45, 15), sharex = True, sharey = True)\n",
    "\n",
    "ax[0].imshow(raw_image,cmap = 'viridis')\n",
    "\n",
    "ax[0].set_title('Image', pad = 20, fontsize = 40)\n",
    "ax[0].set_xticks([])\n",
    "ax[0].set_yticks([])\n",
    "\n",
    "divider = make_axes_locatable(ax[0])\n",
    "cax0 = divider.append_axes(\"right\", size=\"5%\", pad=0.4)\n",
    "cax0.remove()\n",
    "\n",
    "########################################################################\n",
    "\n",
    "# im1 = ax[1].imshow(Image_Coherance, vmin = 0, vmax = 1, cmap = 'Spectral_r')\n",
    "im1 = ax[1].imshow(plt.cm.gray(raw_image/raw_image.max()) * plt.cm.Spectral_r(Image_Coherance), \n",
    "            vmin = 0, vmax = 1, cmap = 'Spectral_r')\n",
    "\n",
    "divider = make_axes_locatable(ax[1])\n",
    "cax = divider.append_axes(\"right\", size=\"5%\", pad = 0.4)\n",
    "cbar = fig.colorbar(im1, cax = cax, ticks = np.linspace(0, 1, 5))\n",
    "cbar.ax.set_yticklabels([r'$0$', r'$0.25$', r'$0.5$', r'$0.75$', r'$1$'], fontsize = 40)\n",
    "\n",
    "ax[1].set_title('Coherance', pad = 20, fontsize = 40)\n",
    "ax[1].set_xticks([])\n",
    "ax[1].set_yticks([])\n",
    "\n",
    "###########################################################data#############\n",
    "\n",
    "# im2 = ax[2].imshow(Image_Orientation/180, vmin = 0, vmax = 1, cmap = 'hsv')\n",
    "im2 = ax[2].imshow(plt.cm.gray(raw_image/raw_image.max()) * plt.cm.hsv(Image_Orientation/180), \n",
    "           vmin = 0, vmax = 1, cmap = 'hsv')\n",
    "divider = make_axes_locatable(ax[2])\n",
    "cax = divider.append_axes(\"right\", size=\"5%\", pad=0.4)\n",
    "cbar = fig.colorbar(im2, cax = cax, ticks = np.linspace(0, 1, 5))\n",
    "cbar.ax.set_yticklabels([r'$0^{\\circ}$', r'$45^{\\circ}$', r'$90^{\\circ}$', r'$135^{\\circ}$', r'$180^{\\circ}$'], \n",
    "                        fontsize = 40)\n",
    "\n",
    "ax[2].set_title('Orientation', pad = 20, fontsize = 40)\n",
    "ax[2].set_xticks([])\n",
    "ax[2].set_yticks([])\n",
    "\n",
    "########################################################################\n",
    "\n",
    "im3 = ax[3].imshow(raw_image, cmap = 'Oranges', alpha = 0.7)\n",
    "\n",
    "xmesh, ymesh = np.meshgrid(np.arange(raw_image.shape[0]), \n",
    "                           np.arange(raw_image.shape[1]), \n",
    "                           indexing = 'ij')\n",
    "\n",
    "ax[3].quiver(ymesh[spacing//2::spacing, spacing//2::spacing], \n",
    "             xmesh[spacing//2::spacing, spacing//2::spacing],\n",
    "             vy[spacing//2::spacing, spacing//2::spacing], \n",
    "             vx[spacing//2::spacing, spacing//2::spacing],\n",
    "             scale = scale, headlength = 0, headaxislength = 0, \n",
    "             pivot = 'middle', color = 'k', angles = 'xy')\n",
    "\n",
    "ax[3].set_title('Orientation Vector Field', pad = 20, fontsize = 40)\n",
    "ax[3].set_xticks([])\n",
    "ax[3].set_yticks([])\n",
    "\n",
    "divider = make_axes_locatable(ax[3])\n",
    "cax = divider.append_axes(\"right\", size=\"5%\", pad=0.4)\n",
    "cax.remove()\n",
    "\n",
    "########################################################################\n",
    "\n",
    "fig.tight_layout()\n",
    "\n",
    "plt.savefig('Results.pdf')\n",
    "plt.close()"
   ]
  },
  {
   "cell_type": "code",
   "execution_count": null,
   "id": "3feebec8",
   "metadata": {},
   "outputs": [],
   "source": []
  }
 ],
 "metadata": {
  "kernelspec": {
   "display_name": "Python 3 (ipykernel)",
   "language": "python",
   "name": "python3"
  },
  "language_info": {
   "codemirror_mode": {
    "name": "ipython",
    "version": 3
   },
   "file_extension": ".py",
   "mimetype": "text/x-python",
   "name": "python",
   "nbconvert_exporter": "python",
   "pygments_lexer": "ipython3",
   "version": "3.9.16"
  }
 },
 "nbformat": 4,
 "nbformat_minor": 5
}
