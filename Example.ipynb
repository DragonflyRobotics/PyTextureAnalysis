{
 "cells": [
  {
   "cell_type": "code",
   "execution_count": 1,
   "id": "cf0c1c4c",
   "metadata": {},
   "outputs": [],
   "source": [
    "import sys\n",
    "# Don't generate the __pycache__ folder locally\n",
    "sys.dont_write_bytecode = True \n",
    "# Print exception without the buit-in python warning\n",
    "sys.tracebacklimit = 0 "
   ]
  },
  {
   "cell_type": "code",
   "execution_count": 3,
   "id": "8a9cbece",
   "metadata": {},
   "outputs": [],
   "source": [
    "from modules import *"
   ]
  },
  {
   "cell_type": "code",
   "execution_count": 4,
   "id": "6f524197",
   "metadata": {},
   "outputs": [],
   "source": [
    "filename = 'TestImage1.tif'\n",
    "\n",
    "########################################################################################\n",
    "\n",
    "# Analysis parameters\n",
    "\n",
    "FilterKey = 1\n",
    "\n",
    "LocalSigmaKey = 10\n",
    "\n",
    "BinarizationKey = 20\n",
    "\n",
    "DensityThresholdValueKey = 0.5\n",
    "\n",
    "LocalDensityKey = 10\n",
    "\n",
    "ThresholdValueKey = 20\n",
    "\n",
    "SpacingKey = 20\n",
    "\n",
    "ScaleKey = 40\n",
    "\n",
    "########################################################################################\n",
    "\n",
    "# Plotting parameters\n",
    "\n",
    "FIGSIZE = (20, 15)\n",
    "PAD = 10\n",
    "FONTSIZE_TITLE = 15\n",
    "\n",
    "DPI = 300\n",
    "\n",
    "aspect = 20\n",
    "pad_fraction = 0.6"
   ]
  },
  {
   "cell_type": "code",
   "execution_count": 5,
   "id": "c6dff825",
   "metadata": {},
   "outputs": [
    {
     "name": "stdout",
     "output_type": "stream",
     "text": [
      "\n"
     ]
    },
    {
     "data": {
      "application/vnd.jupyter.widget-view+json": {
       "model_id": "cea72f0df3dc40cb88f84cc9b2c1bcfc",
       "version_major": 2,
       "version_minor": 0
      },
      "text/plain": [
       "Analyzing:   0%|          | 0/10 [00:00<?, ?it/s]"
      ]
     },
     "metadata": {},
     "output_type": "display_data"
    },
    {
     "name": "stdout",
     "output_type": "stream",
     "text": [
      "\n"
     ]
    }
   ],
   "source": [
    "independent_analysis_function(filename, FilterKey, \n",
    "                              BinarizationKey, LocalDensityKey, DensityThresholdValueKey, \n",
    "                              LocalSigmaKey, ThresholdValueKey, SpacingKey, ScaleKey, \n",
    "                              FIGSIZE, DPI, PAD, FONTSIZE_TITLE, pad_fraction, aspect)"
   ]
  },
  {
   "cell_type": "code",
   "execution_count": null,
   "id": "3feebec8",
   "metadata": {},
   "outputs": [],
   "source": []
  }
 ],
 "metadata": {
  "kernelspec": {
   "display_name": "Python 3 (ipykernel)",
   "language": "python",
   "name": "python3"
  },
  "language_info": {
   "codemirror_mode": {
    "name": "ipython",
    "version": 3
   },
   "file_extension": ".py",
   "mimetype": "text/x-python",
   "name": "python",
   "nbconvert_exporter": "python",
   "pygments_lexer": "ipython3",
   "version": "3.10.9"
  }
 },
 "nbformat": 4,
 "nbformat_minor": 5
}
